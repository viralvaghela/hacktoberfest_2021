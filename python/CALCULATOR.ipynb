{
 "cells": [
  {
   "cell_type": "code",
   "execution_count": null,
   "metadata": {},
   "outputs": [],
   "source": [
    "#CALCULATOR\n",
    "\n",
    "print(\"\\t\\t......CALCULATOR......\")\n",
    "print()\n",
    "print('1.ADDITION')\n",
    "print('2.SUBSTRACTION')\n",
    "print('3.MULTIPLICATION')\n",
    "print('4.DIVISION')\n",
    "print(\"5.REMAINDER\")\n",
    "print()\n",
    "c=int(input((\"ENTER THE OPERATION No. YOU WANT: \")))\n",
    "if c==1:\n",
    "    a,b=map(int,input().split())\n",
    "    print(a+b)\n",
    "elif c==2:\n",
    "    a,b=map(int,input().split())\n",
    "    print(a-b)\n",
    "elif c==3:\n",
    "    a,b=map(int,input().split())\n",
    "    print(a*b)\n",
    "elif c==4:\n",
    "    a,b=map(int,input().split())\n",
    "    print(a/b)\n",
    "else:\n",
    "    a,b=map(int,input().split())\n",
    "    print(a%b)\n",
    "    \n",
    "    \n"
   ]
  }
 ],
 "metadata": {
  "kernelspec": {
   "display_name": "Python 3",
   "language": "python",
   "name": "python3"
  },
  "language_info": {
   "codemirror_mode": {
    "name": "ipython",
    "version": 3
   },
   "file_extension": ".py",
   "mimetype": "text/x-python",
   "name": "python",
   "nbconvert_exporter": "python",
   "pygments_lexer": "ipython3",
   "version": "3.8.5"
  }
 },
 "nbformat": 4,
 "nbformat_minor": 4
}
