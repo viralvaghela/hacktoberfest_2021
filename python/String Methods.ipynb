{
 "cells": [
  {
   "cell_type": "markdown",
   "metadata": {},
   "source": [
    "# **** STRING METHODS ****"
   ]
  },
  {
   "cell_type": "code",
   "execution_count": 1,
   "metadata": {},
   "outputs": [],
   "source": [
    "import string\n",
    "\n",
    "str1 = \"String_methods_from_docpythonorg\"\n",
    "str2 = \"uploading on github 1\"\n",
    "str3 = \"02468\"\n",
    "str4 = \"HelloWorld0123\""
   ]
  },
  {
   "cell_type": "code",
   "execution_count": 2,
   "metadata": {},
   "outputs": [
    {
     "name": "stdout",
     "output_type": "stream",
     "text": [
      "String_methods_from_docpythonorg\n",
      "Uploading on github 1\n"
     ]
    }
   ],
   "source": [
    "\"\"\"CAPATILIZE\"\"\"\n",
    "\n",
    "print(str1.capitalize())\n",
    "print(str2.capitalize())"
   ]
  },
  {
   "cell_type": "code",
   "execution_count": 3,
   "metadata": {},
   "outputs": [
    {
     "name": "stdout",
     "output_type": "stream",
     "text": [
      "21\n",
      "**uploading on github 1**\n"
     ]
    }
   ],
   "source": [
    "\"\"\"Center\"\"\"\n",
    "\n",
    "print(len(str2)) #19\n",
    "print(str2.center(25,\"*\"))"
   ]
  },
  {
   "cell_type": "code",
   "execution_count": 4,
   "metadata": {},
   "outputs": [
    {
     "name": "stdout",
     "output_type": "stream",
     "text": [
      "Occurence of o is  5\n",
      "Occurence of o is  1\n",
      "p --> 1\n",
      "d --> 2\n",
      "h --> 2\n",
      "g --> 2\n",
      "r --> 3\n",
      "c --> 1\n",
      "y --> 1\n",
      "i --> 1\n",
      "n --> 2\n",
      "f --> 1\n",
      "_ --> 3\n",
      "m --> 2\n",
      "o --> 5\n",
      "t --> 3\n",
      "s --> 1\n",
      "e --> 1\n",
      "S --> 1\n",
      "\n",
      "OR\n",
      "\n",
      "S  -->  1  ~  t  -->  3  ~  r  -->  3  ~  i  -->  1  ~  n  -->  2  ~  g  -->  2  ~  _  -->  3  ~  m  -->  2  ~  e  -->  1  ~  h  -->  2  ~  o  -->  5  ~  d  -->  2  ~  s  -->  1  ~  f  -->  1  ~  c  -->  1  ~  p  -->  1  ~  y  -->  1  ~  "
     ]
    }
   ],
   "source": [
    "\"\"\"Count\"\"\"\n",
    "\n",
    "print(\"Occurence of o is \" , str1.count(\"o\"))\n",
    "print(\"Occurence of o is \" , str1.count(\"o\",0,12)) #begining and ending index range\n",
    "\n",
    "set_str1 = set(str1)\n",
    "for i in set_str1:\n",
    "    all = string.ascii_letters + string.digits + string.punctuation\n",
    "    if i in all:\n",
    "            print(i, \"-->\" , str1.count(i))\n",
    "\n",
    "            \n",
    "print(\"\\nOR\\n\")\n",
    "    \n",
    "var = \"\"\n",
    "for i in str1:\n",
    "    if i not in var:\n",
    "        var += i\n",
    "        print(i , \" --> \" , str1.count(i), end = \"  ~  \")"
   ]
  },
  {
   "cell_type": "code",
   "execution_count": 5,
   "metadata": {},
   "outputs": [],
   "source": [
    "#str.decode\n",
    "#str.encode"
   ]
  },
  {
   "cell_type": "code",
   "execution_count": 6,
   "metadata": {},
   "outputs": [
    {
     "name": "stdout",
     "output_type": "stream",
     "text": [
      "True\n"
     ]
    }
   ],
   "source": [
    "\"\"\"endswith\"\"\"\n",
    "\n",
    "print(str2.endswith(\"h\",0,17))"
   ]
  },
  {
   "cell_type": "code",
   "execution_count": 7,
   "metadata": {},
   "outputs": [
    {
     "name": "stdout",
     "output_type": "stream",
     "text": [
      "Practicing      doc.python\n"
     ]
    }
   ],
   "source": [
    "\"\"\"expandtabs\"\"\"\n",
    "\n",
    "print(\"Practicing\\tdoc.python\".expandtabs(16)) #default is 8"
   ]
  },
  {
   "cell_type": "code",
   "execution_count": 8,
   "metadata": {},
   "outputs": [
    {
     "name": "stdout",
     "output_type": "stream",
     "text": [
      "0\n",
      "18\n",
      "-1\n"
     ]
    }
   ],
   "source": [
    "\"\"\"find\"\"\"\n",
    "\n",
    "print(str1.find(\"S\")) #index number\n",
    "print(str2.find(\"b\",0,19)) #return -1 if not found\n",
    "print(str2.find(\"b\",0,18))"
   ]
  },
  {
   "cell_type": "code",
   "execution_count": 9,
   "metadata": {},
   "outputs": [
    {
     "name": "stdout",
     "output_type": "stream",
     "text": [
      "String is uploading on github 1 and String_methods_from_docpythonorg\n",
      "\n",
      "OR\n",
      "\n",
      "String is uploading on github 1 and String_methods_from_docpythonorg\n"
     ]
    }
   ],
   "source": [
    "\"\"\"Format\"\"\"\n",
    "\n",
    "print(\"String is {01} and {00}\".format(str1,str2))\n",
    "\n",
    "print(\"\\nOR\\n\")\n",
    "\n",
    "print(f\"String is {str2} and {str1}\")"
   ]
  },
  {
   "cell_type": "code",
   "execution_count": 10,
   "metadata": {},
   "outputs": [
    {
     "name": "stdout",
     "output_type": "stream",
     "text": [
      "0\n"
     ]
    }
   ],
   "source": [
    "\"\"\"index\"\"\"\n",
    "\n",
    "print(str1.index(\"S\"))"
   ]
  },
  {
   "cell_type": "code",
   "execution_count": 11,
   "metadata": {},
   "outputs": [
    {
     "name": "stdout",
     "output_type": "stream",
     "text": [
      "True\n"
     ]
    }
   ],
   "source": [
    "\"\"\"isalnum\"\"\"\n",
    "\n",
    "print(str4.isalnum())"
   ]
  },
  {
   "cell_type": "code",
   "execution_count": 12,
   "metadata": {},
   "outputs": [
    {
     "name": "stdout",
     "output_type": "stream",
     "text": [
      "False\n",
      "True\n"
     ]
    }
   ],
   "source": [
    "\"\"\"isalpha\"\"\"\n",
    "c = \"abcd\"\n",
    "print(str4.isalpha())\n",
    "print(c.isalpha())"
   ]
  },
  {
   "cell_type": "code",
   "execution_count": 13,
   "metadata": {},
   "outputs": [
    {
     "name": "stdout",
     "output_type": "stream",
     "text": [
      "False\n",
      "True\n"
     ]
    }
   ],
   "source": [
    "\"\"\"isidgit\"\"\"\n",
    "b = \"0123\"\n",
    "print(str4.isdigit())\n",
    "print(b.isdigit())"
   ]
  },
  {
   "cell_type": "code",
   "execution_count": 14,
   "metadata": {},
   "outputs": [
    {
     "name": "stdout",
     "output_type": "stream",
     "text": [
      "True\n"
     ]
    }
   ],
   "source": [
    "\"\"\"islower\"\"\"\n",
    "\n",
    "print(str2.islower())"
   ]
  },
  {
   "cell_type": "code",
   "execution_count": 15,
   "metadata": {},
   "outputs": [
    {
     "name": "stdout",
     "output_type": "stream",
     "text": [
      "False\n",
      "True\n"
     ]
    }
   ],
   "source": [
    "\"\"\"isspace\"\"\"\n",
    "a = \"   \"\n",
    "print(str2.isspace())# when string is only space\n",
    "print(a.isspace())"
   ]
  },
  {
   "cell_type": "code",
   "execution_count": 16,
   "metadata": {},
   "outputs": [
    {
     "name": "stdout",
     "output_type": "stream",
     "text": [
      "False\n",
      "True\n"
     ]
    }
   ],
   "source": [
    "\"\"\"istitle\"\"\"\n",
    "d = \"Hello World\"\n",
    "print(str4.istitle())\n",
    "print(d.istitle())"
   ]
  },
  {
   "cell_type": "code",
   "execution_count": 17,
   "metadata": {},
   "outputs": [
    {
     "name": "stdout",
     "output_type": "stream",
     "text": [
      "False\n",
      "True\n"
     ]
    }
   ],
   "source": [
    "\"\"\"isupper\"\"\"\n",
    "\n",
    "e = \"HELLO WORLD\"\n",
    "print(str4.isupper())\n",
    "print(e.isupper())"
   ]
  },
  {
   "cell_type": "code",
   "execution_count": 18,
   "metadata": {},
   "outputs": [
    {
     "name": "stdout",
     "output_type": "stream",
     "text": [
      "a-b-c\n"
     ]
    }
   ],
   "source": [
    "\"\"\"join\"\"\"\n",
    "\n",
    "lst = [\"a\",\"b\",\"c\"]\n",
    "print(\"-\".join(lst)) "
   ]
  },
  {
   "cell_type": "code",
   "execution_count": 19,
   "metadata": {},
   "outputs": [
    {
     "name": "stdout",
     "output_type": "stream",
     "text": [
      "uploading on github 1****\n"
     ]
    }
   ],
   "source": [
    "\"\"\"ljust\"\"\"\n",
    "\n",
    "print(str2.ljust(25,\"*\")) #one character long, not more than one"
   ]
  },
  {
   "cell_type": "code",
   "execution_count": 20,
   "metadata": {},
   "outputs": [
    {
     "name": "stdout",
     "output_type": "stream",
     "text": [
      "bye\n"
     ]
    }
   ],
   "source": [
    "\"\"\"lower\"\"\"\n",
    "\n",
    "r = \"BYE\"\n",
    "print(r.lower())"
   ]
  },
  {
   "cell_type": "code",
   "execution_count": 21,
   "metadata": {},
   "outputs": [
    {
     "name": "stdout",
     "output_type": "stream",
     "text": [
      "strip     .\n"
     ]
    }
   ],
   "source": [
    "\"\"\"lstrip\"\"\"\n",
    "\n",
    "p = \"     strip     .\"\n",
    "print(p.lstrip())"
   ]
  },
  {
   "cell_type": "code",
   "execution_count": 22,
   "metadata": {},
   "outputs": [
    {
     "name": "stdout",
     "output_type": "stream",
     "text": [
      "('I ', 'am', ' using partition method')\n",
      "('I am using partition method', '', '')\n",
      "('I ', 'am', ' coding and I am using partition method')\n"
     ]
    }
   ],
   "source": [
    "\"\"\"partition\"\"\"\n",
    "\n",
    "string1 = \"I am using partition method\"\n",
    "print(string1.partition('am'))\n",
    "print(string1.partition('not')) #not is not present\n",
    "\n",
    "string2 = \"I am coding and I am using partition method\"\n",
    "print(string2.partition('am')) # splits at first occurence of 'am'"
   ]
  },
  {
   "cell_type": "code",
   "execution_count": 23,
   "metadata": {},
   "outputs": [
    {
     "name": "stdout",
     "output_type": "stream",
     "text": [
      "I was coding and I was using partition method\n",
      "I was coding and I am using partition method\n",
      "I was coding and I was using partition method\n"
     ]
    }
   ],
   "source": [
    "\"\"\"replace\"\"\"\n",
    "\n",
    "print(string2.replace(\"am\",\"was\"))# replaces all am\n",
    "print(string2.replace(\"am\",\"was\",1)) #only replaces one am \n",
    "print(string2.replace(\"am\",\"was\",2))"
   ]
  },
  {
   "cell_type": "code",
   "execution_count": 24,
   "metadata": {},
   "outputs": [
    {
     "name": "stdout",
     "output_type": "stream",
     "text": [
      "2\n",
      "-1\n",
      "-1\n",
      "2\n"
     ]
    }
   ],
   "source": [
    "\"\"\"rfind\"\"\"\n",
    "\n",
    "print(string1.rfind(\"am\"))\n",
    "print(string1.rfind(\"am\",3)) #give -1 if not present \n",
    "print(string1.rfind(\"am\",0,3))# at 3 index am lies so -1\n",
    "print(string1.rfind(\"am\",0,4))"
   ]
  },
  {
   "cell_type": "code",
   "execution_count": 25,
   "metadata": {},
   "outputs": [
    {
     "name": "stdout",
     "output_type": "stream",
     "text": [
      "18\n",
      "2\n",
      "18\n"
     ]
    }
   ],
   "source": [
    "\"\"\"rindex\"\"\"\n",
    "\n",
    "print(string2.rindex(\"am\")) #give result of the end am\n",
    "print(string2.rindex(\"am\",0,4))\n",
    "print(string2.rindex(\"am\",0,20))"
   ]
  },
  {
   "cell_type": "code",
   "execution_count": 26,
   "metadata": {},
   "outputs": [
    {
     "name": "stdout",
     "output_type": "stream",
     "text": [
      "43\n",
      "**I am coding and I am using partition method\n"
     ]
    }
   ],
   "source": [
    "\"\"\"rjust\"\"\"\n",
    "\n",
    "print(len(string2))\n",
    "print(string2.rjust(43+2,\"*\"))"
   ]
  },
  {
   "cell_type": "code",
   "execution_count": 27,
   "metadata": {},
   "outputs": [
    {
     "name": "stdout",
     "output_type": "stream",
     "text": [
      "('I am coding and I ', 'am', ' using partition method')\n",
      "('I am coding and I am using partition', ' ', 'method')\n"
     ]
    }
   ],
   "source": [
    "\"\"\"rpartition\"\"\"\n",
    "\n",
    "print(string2.rpartition(\"am\"))#make 3 element tuple\n",
    "print(string2.rpartition(\" \"))#######################################"
   ]
  },
  {
   "cell_type": "code",
   "execution_count": 28,
   "metadata": {},
   "outputs": [
    {
     "name": "stdout",
     "output_type": "stream",
     "text": [
      "['I', 'am', 'using', 'partition', 'method']\n"
     ]
    }
   ],
   "source": [
    "\"\"\"rsplit\"\"\"\n",
    "\n",
    "print(string1.rsplit(\" \"))"
   ]
  },
  {
   "cell_type": "code",
   "execution_count": 29,
   "metadata": {},
   "outputs": [
    {
     "name": "stdout",
     "output_type": "stream",
     "text": [
      "   stripss\n"
     ]
    }
   ],
   "source": [
    "\"\"\"rstrip\"\"\"\n",
    "\n",
    "print(\"   stripss   \".rstrip())#############################"
   ]
  },
  {
   "cell_type": "code",
   "execution_count": 30,
   "metadata": {},
   "outputs": [
    {
     "name": "stdout",
     "output_type": "stream",
     "text": [
      "['I', 'am', 'using', 'partition', 'method']\n",
      "['I', 'am', 'using', 'partition', 'method']\n",
      "['abc']\n",
      "['a', 'b', 'c']\n",
      "['1', '', '2']\n",
      "['1', '2', '3']\n",
      "['1', '2   3  ']\n"
     ]
    }
   ],
   "source": [
    "\"\"\"split\"\"\"\n",
    "\n",
    "print(string1.split())\n",
    "print(string1.split(\" \"))\n",
    "print(\"abc\".split())\n",
    "print(\"a .b .c\".split(\" .\"))\n",
    "print(\"1,,2\".split(\",\"))\n",
    "print(\"1<>2<>3\".split(\"<>\"))\n",
    "print('  1  2   3  '.split(None, 1))"
   ]
  },
  {
   "cell_type": "code",
   "execution_count": 31,
   "metadata": {},
   "outputs": [
    {
     "name": "stdout",
     "output_type": "stream",
     "text": [
      "['Milk', 'Chicken', 'Bread', 'Butter']\n",
      "['Milk\\n', 'Chicken\\r\\n', 'Bread\\r', 'Butter']\n",
      "['Milk', 'Chicken', 'Bread', 'Butter']\n",
      "['Milk\\n', 'Chicken\\r\\n', 'Bread\\r', 'Butter']\n",
      "['Milk Chicken Bread Butter']\n"
     ]
    }
   ],
   "source": [
    "\"\"\"splitlines\"\"\"\n",
    "\n",
    "grocery = 'Milk\\nChicken\\r\\nBread\\rButter'\n",
    "\n",
    "print(grocery.splitlines())\n",
    "print(grocery.splitlines(True))\n",
    "print(grocery.splitlines(0))\n",
    "print(grocery.splitlines(1))\n",
    "\n",
    "grocery = 'Milk Chicken Bread Butter'\n",
    "print(grocery.splitlines())"
   ]
  },
  {
   "cell_type": "code",
   "execution_count": 32,
   "metadata": {},
   "outputs": [
    {
     "name": "stdout",
     "output_type": "stream",
     "text": [
      "[]\n",
      "['One line']\n",
      "['']\n",
      "['Two lines', '']\n"
     ]
    }
   ],
   "source": [
    "\"\"\"Comparison between splitlines and split\"\"\"\n",
    "\n",
    "print(\"\".splitlines())\n",
    "print(\"One line\\n\".splitlines())\n",
    "\n",
    "print(''.split('\\n'))\n",
    "print('Two lines\\n'.split('\\n'))\n",
    "\n",
    "#print(''.splitlines('\\n'))                      #error (only integer can pass)\n",
    "#print('Two lines\\n'.splitlines('\\n'))           #error (only integer can pass)"
   ]
  },
  {
   "cell_type": "raw",
   "metadata": {},
   "source": [
    "Representation               --->                    Description\n",
    "\n",
    "\\n                           --->                    Line Feed\n",
    "\n",
    "\\r                           --->                    Carriage Return\n",
    "\n",
    "\\r\\n                         --->                    Carriage Return + Line Feed\n",
    "\n",
    "\\v or \\x0b                   --->                    Line Tabulation\n",
    "\n",
    "\\f or \\x0c                   --->                    Form Feed\n",
    "\n",
    "\\x1c                         --->                    File Separator\n",
    "\n",
    "\\x1d                         --->                    Group Separator\n",
    "\n",
    "\\x1e                         --->                    Record Separator\n",
    "\n",
    "\\x85                         --->                    Next Line (C1 Control Code)\n",
    "\n",
    "\\u2028                       --->                    Line Separator\n",
    "\n",
    "\\u2029                       --->                    Paragraph Separator"
   ]
  },
  {
   "cell_type": "code",
   "execution_count": 33,
   "metadata": {},
   "outputs": [
    {
     "name": "stdout",
     "output_type": "stream",
     "text": [
      "True\n",
      "True\n"
     ]
    }
   ],
   "source": [
    "\"\"\"startswith\"\"\"\n",
    "\n",
    "print(str2.startswith(\"u\",0,17))\n",
    "print(str2.startswith(\"l\",2,20))"
   ]
  },
  {
   "cell_type": "code",
   "execution_count": 34,
   "metadata": {},
   "outputs": [
    {
     "name": "stdout",
     "output_type": "stream",
     "text": [
      "strip\n"
     ]
    }
   ],
   "source": [
    "\"\"\"strip\"\"\"\n",
    "\n",
    "st = \"     strip    \"\n",
    "print(st.strip()) # remove both left right spaces"
   ]
  },
  {
   "cell_type": "code",
   "execution_count": 35,
   "metadata": {},
   "outputs": [
    {
     "name": "stdout",
     "output_type": "stream",
     "text": [
      "hEllO\n",
      "BYE\n"
     ]
    }
   ],
   "source": [
    "\"\"\"swapcase\"\"\"\n",
    "\n",
    "print(\"HeLLo\".swapcase())  #swap uppercase into lowercase\n",
    "print(\"bye\".swapcase())"
   ]
  },
  {
   "cell_type": "code",
   "execution_count": 36,
   "metadata": {},
   "outputs": [
    {
     "name": "stdout",
     "output_type": "stream",
     "text": [
      "Uploading On Github 1\n"
     ]
    }
   ],
   "source": [
    "\"\"\"title\"\"\"\n",
    "\n",
    "print(str2.title())"
   ]
  },
  {
   "cell_type": "code",
   "execution_count": 37,
   "metadata": {},
   "outputs": [
    {
     "name": "stdout",
     "output_type": "stream",
     "text": [
      "hllo\n",
      "\n",
      "OR\n",
      "\n",
      "{97: None, 98: None, 99: 105}\n",
      "idef\n"
     ]
    }
   ],
   "source": [
    "\"\"\"translate\"\"\"\n",
    "\n",
    "# using ASCII   \n",
    "trans = {103: None, 101: None, 101: None} \n",
    "  \n",
    "string4 = \"hello\"\n",
    "print(string4.translate(trans)) #can remove nd replace number\n",
    "\n",
    "print(\"\\nOR\\n\")\n",
    "\n",
    "firstString = \"abc\"\n",
    "secondString = \"ghi\"\n",
    "thirdString = \"ab\"\n",
    "string5 = \"abcdef\"\n",
    "translation = string5.maketrans(firstString, secondString, thirdString)\n",
    "print(translation)\n",
    "print(string5.translate(translation))##############################"
   ]
  },
  {
   "cell_type": "code",
   "execution_count": 38,
   "metadata": {},
   "outputs": [
    {
     "name": "stdout",
     "output_type": "stream",
     "text": [
      "UPLOADING ON GITHUB 1\n"
     ]
    }
   ],
   "source": [
    "\"\"\"upper\"\"\"\n",
    "\n",
    "print(str2.upper())"
   ]
  },
  {
   "cell_type": "code",
   "execution_count": 39,
   "metadata": {},
   "outputs": [
    {
     "name": "stdout",
     "output_type": "stream",
     "text": [
      "00000000uploading on github 1\n",
      "uploading on github 1\n",
      "-000000280\n",
      "00000000!@@#$%^&_+_-\n",
      "-0000000!@@#$%^&_+_-\n"
     ]
    }
   ],
   "source": [
    "\"\"\"zfill\"\"\"\n",
    "\n",
    "#zfill() method returns a copy of the string with ‘0’ characters padded to the leftside of the given string.\n",
    "print(str2.zfill(19+10))\n",
    "print(str2.zfill(18))  # Given length is less than the length of original string\n",
    "print(\"-280\".zfill(10)) #If a string starts with the sign prefix('+', '-'), the '0' digits are filled after the first sign.\n",
    "print(\"!@@#$%^&_+_-\".zfill(20))\n",
    "print(\"-!@@#$%^&_+_-\".zfill(20))"
   ]
  },
  {
   "cell_type": "code",
   "execution_count": 40,
   "metadata": {},
   "outputs": [
    {
     "name": "stdout",
     "output_type": "stream",
     "text": [
      "⅕\n",
      "False False True\n",
      "²\n",
      "False True True\n",
      "\n",
      "OR\n",
      "\n",
      "True\n",
      "True\n",
      "True\n"
     ]
    }
   ],
   "source": [
    "\"\"\"isdecimal , isdigit , isnumeric\"\"\"\n",
    "\n",
    "c = '\\u2155'\n",
    "print(c)\n",
    "print(c.isdecimal(), c.isdigit(), c.isnumeric())\n",
    "c = '\\u00B2'\n",
    "print(c)\n",
    "print(c.isdecimal(), c.isdigit(), c.isnumeric())\n",
    "\n",
    "print(\"\\nOR\\n\")\n",
    "\n",
    "# f = \"10.02\"\n",
    "f = \"10\"\n",
    "print(f.isdecimal())\n",
    "print(f.isnumeric())\n",
    "print(f.isdigit())"
   ]
  }
 ],
 "metadata": {
  "kernelspec": {
   "display_name": "Python 3",
   "language": "python",
   "name": "python3"
  },
  "language_info": {
   "codemirror_mode": {
    "name": "ipython",
    "version": 3
   },
   "file_extension": ".py",
   "mimetype": "text/x-python",
   "name": "python",
   "nbconvert_exporter": "python",
   "pygments_lexer": "ipython3",
   "version": "3.7.3"
  }
 },
 "nbformat": 4,
 "nbformat_minor": 2
}
